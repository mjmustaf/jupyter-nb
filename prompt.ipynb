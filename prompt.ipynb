{
  "cells": [
    {
      "cell_type": "markdown",
      "metadata": {
        "id": "CcUT6Fon_qRE"
      },
      "source": [
        "### Required Assignment 5.1: Will the Customer Accept the Coupon?\n",
        "\n",
        "**Context**\n",
        "\n",
        "Imagine driving through town and a coupon is delivered to your cell phone for a restaurant near where you are driving. Would you accept that coupon and take a short detour to the restaurant? Would you accept the coupon but use it on a subsequent trip? Would you ignore the coupon entirely? What if the coupon was for a bar instead of a restaurant? What about a coffee house? Would you accept a bar coupon with a minor passenger in the car? What about if it was just you and your partner in the car? Would weather impact the rate of acceptance? What about the time of day?\n",
        "\n",
        "Obviously, proximity to the business is a factor on whether the coupon is delivered to the driver or not, but what are the factors that determine whether a driver accepts the coupon once it is delivered to them? How would you determine whether a driver is likely to accept a coupon?\n",
        "\n",
        "**Overview**\n",
        "\n",
        "The goal of this project is to use what you know about visualizations and probability distributions to distinguish between customers who accepted a driving coupon versus those that did not.\n",
        "\n",
        "**Data**\n",
        "\n",
        "This data comes to us from the UCI Machine Learning repository and was collected via a survey on Amazon Mechanical Turk. The survey describes different driving scenarios including the destination, current time, weather, passenger, etc., and then ask the person whether he will accept the coupon if he is the driver. Answers that the user will drive there ‘right away’ or ‘later before the coupon expires’ are labeled as ‘Y = 1’ and answers ‘no, I do not want the coupon’ are labeled as ‘Y = 0’.  There are five different types of coupons -- less expensive restaurants (under \\$20), coffee houses, carry out & take away, bar, and more expensive restaurants (\\$20 - $50)."
      ]
    },
    {
      "cell_type": "markdown",
      "metadata": {
        "id": "1wORvMBJ_qRF"
      },
      "source": [
        "**Deliverables**\n",
        "\n",
        "Your final product should be a brief report that highlights the differences between customers who did and did not accept the coupons.  To explore the data you will utilize your knowledge of plotting, statistical summaries, and visualization using Python. You will publish your findings in a public facing github repository as your first portfolio piece.\n",
        "\n",
        "\n",
        "\n"
      ]
    },
    {
      "cell_type": "markdown",
      "metadata": {
        "id": "pG6_Ym6q_qRG"
      },
      "source": [
        "### Data Description\n",
        "Keep in mind that these values mentioned below are average values.\n",
        "\n",
        "The attributes of this data set include:\n",
        "1. User attributes\n",
        "    -  Gender: male, female\n",
        "    -  Age: below 21, 21 to 25, 26 to 30, etc.\n",
        "    -  Marital Status: single, married partner, unmarried partner, or widowed\n",
        "    -  Number of children: 0, 1, or more than 1\n",
        "    -  Education: high school, bachelors degree, associates degree, or graduate degree\n",
        "    -  Occupation: architecture & engineering, business & financial, etc.\n",
        "    -  Annual income: less than \\\\$12500, \\\\$12500 - \\\\$24999, \\\\$25000 - \\\\$37499, etc.\n",
        "    -  Number of times that he/she goes to a bar: 0, less than 1, 1 to 3, 4 to 8 or greater than 8\n",
        "    -  Number of times that he/she buys takeaway food: 0, less than 1, 1 to 3, 4 to 8 or greater\n",
        "    than 8\n",
        "    -  Number of times that he/she goes to a coffee house: 0, less than 1, 1 to 3, 4 to 8 or\n",
        "    greater than 8\n",
        "    -  Number of times that he/she eats at a restaurant with average expense less than \\\\$20 per\n",
        "    person: 0, less than 1, 1 to 3, 4 to 8 or greater than 8\n",
        "    -  Number of times that he/she goes to a bar: 0, less than 1, 1 to 3, 4 to 8 or greater than 8\n",
        "    \n",
        "\n",
        "2. Contextual attributes\n",
        "    - Driving destination: home, work, or no urgent destination\n",
        "    - Location of user, coupon and destination: we provide a map to show the geographical\n",
        "    location of the user, destination, and the venue, and we mark the distance between each\n",
        "    two places with time of driving. The user can see whether the venue is in the same\n",
        "    direction as the destination.\n",
        "    - Weather: sunny, rainy, or snowy\n",
        "    - Temperature: 30F, 55F, or 80F\n",
        "    - Time: 10AM, 2PM, or 6PM\n",
        "    - Passenger: alone, partner, kid(s), or friend(s)\n",
        "\n",
        "\n",
        "3. Coupon attributes\n",
        "    - time before it expires: 2 hours or one day"
      ]
    },
    {
      "cell_type": "code",
      "execution_count": 2,
      "metadata": {
        "id": "dzNoP3o__qRG"
      },
      "outputs": [],
      "source": [
        "import matplotlib.pyplot as plt\n",
        "import seaborn as sns\n",
        "import pandas as pd\n",
        "import numpy as np"
      ]
    },
    {
      "cell_type": "markdown",
      "metadata": {
        "id": "Ct8pI1uE_qRG"
      },
      "source": [
        "### Problems\n",
        "\n",
        "Use the prompts below to get started with your data analysis.  \n",
        "\n",
        "1. Read in the `coupons.csv` file.\n",
        "\n",
        "\n"
      ]
    },
    {
      "cell_type": "code",
      "execution_count": 3,
      "metadata": {
        "id": "X0vbffYg_qRH"
      },
      "outputs": [],
      "source": [
        "data = pd.read_csv('data/coupons.csv')"
      ]
    },
    {
      "cell_type": "code",
      "execution_count": null,
      "metadata": {
        "id": "TXofQ_DF_qRH",
        "outputId": "2fc96a2c-1112-4b54-f24f-dbb9bc88abfb"
      },
      "outputs": [
        {
          "data": {
            "text/html": [
              "<div>\n",
              "<style scoped>\n",
              "    .dataframe tbody tr th:only-of-type {\n",
              "        vertical-align: middle;\n",
              "    }\n",
              "\n",
              "    .dataframe tbody tr th {\n",
              "        vertical-align: top;\n",
              "    }\n",
              "\n",
              "    .dataframe thead th {\n",
              "        text-align: right;\n",
              "    }\n",
              "</style>\n",
              "<table border=\"1\" class=\"dataframe\">\n",
              "  <thead>\n",
              "    <tr style=\"text-align: right;\">\n",
              "      <th></th>\n",
              "      <th>destination</th>\n",
              "      <th>passanger</th>\n",
              "      <th>weather</th>\n",
              "      <th>temperature</th>\n",
              "      <th>time</th>\n",
              "      <th>coupon</th>\n",
              "      <th>expiration</th>\n",
              "      <th>gender</th>\n",
              "      <th>age</th>\n",
              "      <th>maritalStatus</th>\n",
              "      <th>...</th>\n",
              "      <th>CoffeeHouse</th>\n",
              "      <th>CarryAway</th>\n",
              "      <th>RestaurantLessThan20</th>\n",
              "      <th>Restaurant20To50</th>\n",
              "      <th>toCoupon_GEQ5min</th>\n",
              "      <th>toCoupon_GEQ15min</th>\n",
              "      <th>toCoupon_GEQ25min</th>\n",
              "      <th>direction_same</th>\n",
              "      <th>direction_opp</th>\n",
              "      <th>Y</th>\n",
              "    </tr>\n",
              "  </thead>\n",
              "  <tbody>\n",
              "    <tr>\n",
              "      <th>0</th>\n",
              "      <td>No Urgent Place</td>\n",
              "      <td>Alone</td>\n",
              "      <td>Sunny</td>\n",
              "      <td>55</td>\n",
              "      <td>2PM</td>\n",
              "      <td>Restaurant(&lt;20)</td>\n",
              "      <td>1d</td>\n",
              "      <td>Female</td>\n",
              "      <td>21</td>\n",
              "      <td>Unmarried partner</td>\n",
              "      <td>...</td>\n",
              "      <td>never</td>\n",
              "      <td>NaN</td>\n",
              "      <td>4~8</td>\n",
              "      <td>1~3</td>\n",
              "      <td>1</td>\n",
              "      <td>0</td>\n",
              "      <td>0</td>\n",
              "      <td>0</td>\n",
              "      <td>1</td>\n",
              "      <td>1</td>\n",
              "    </tr>\n",
              "    <tr>\n",
              "      <th>1</th>\n",
              "      <td>No Urgent Place</td>\n",
              "      <td>Friend(s)</td>\n",
              "      <td>Sunny</td>\n",
              "      <td>80</td>\n",
              "      <td>10AM</td>\n",
              "      <td>Coffee House</td>\n",
              "      <td>2h</td>\n",
              "      <td>Female</td>\n",
              "      <td>21</td>\n",
              "      <td>Unmarried partner</td>\n",
              "      <td>...</td>\n",
              "      <td>never</td>\n",
              "      <td>NaN</td>\n",
              "      <td>4~8</td>\n",
              "      <td>1~3</td>\n",
              "      <td>1</td>\n",
              "      <td>0</td>\n",
              "      <td>0</td>\n",
              "      <td>0</td>\n",
              "      <td>1</td>\n",
              "      <td>0</td>\n",
              "    </tr>\n",
              "    <tr>\n",
              "      <th>2</th>\n",
              "      <td>No Urgent Place</td>\n",
              "      <td>Friend(s)</td>\n",
              "      <td>Sunny</td>\n",
              "      <td>80</td>\n",
              "      <td>10AM</td>\n",
              "      <td>Carry out &amp; Take away</td>\n",
              "      <td>2h</td>\n",
              "      <td>Female</td>\n",
              "      <td>21</td>\n",
              "      <td>Unmarried partner</td>\n",
              "      <td>...</td>\n",
              "      <td>never</td>\n",
              "      <td>NaN</td>\n",
              "      <td>4~8</td>\n",
              "      <td>1~3</td>\n",
              "      <td>1</td>\n",
              "      <td>1</td>\n",
              "      <td>0</td>\n",
              "      <td>0</td>\n",
              "      <td>1</td>\n",
              "      <td>1</td>\n",
              "    </tr>\n",
              "    <tr>\n",
              "      <th>3</th>\n",
              "      <td>No Urgent Place</td>\n",
              "      <td>Friend(s)</td>\n",
              "      <td>Sunny</td>\n",
              "      <td>80</td>\n",
              "      <td>2PM</td>\n",
              "      <td>Coffee House</td>\n",
              "      <td>2h</td>\n",
              "      <td>Female</td>\n",
              "      <td>21</td>\n",
              "      <td>Unmarried partner</td>\n",
              "      <td>...</td>\n",
              "      <td>never</td>\n",
              "      <td>NaN</td>\n",
              "      <td>4~8</td>\n",
              "      <td>1~3</td>\n",
              "      <td>1</td>\n",
              "      <td>1</td>\n",
              "      <td>0</td>\n",
              "      <td>0</td>\n",
              "      <td>1</td>\n",
              "      <td>0</td>\n",
              "    </tr>\n",
              "    <tr>\n",
              "      <th>4</th>\n",
              "      <td>No Urgent Place</td>\n",
              "      <td>Friend(s)</td>\n",
              "      <td>Sunny</td>\n",
              "      <td>80</td>\n",
              "      <td>2PM</td>\n",
              "      <td>Coffee House</td>\n",
              "      <td>1d</td>\n",
              "      <td>Female</td>\n",
              "      <td>21</td>\n",
              "      <td>Unmarried partner</td>\n",
              "      <td>...</td>\n",
              "      <td>never</td>\n",
              "      <td>NaN</td>\n",
              "      <td>4~8</td>\n",
              "      <td>1~3</td>\n",
              "      <td>1</td>\n",
              "      <td>1</td>\n",
              "      <td>0</td>\n",
              "      <td>0</td>\n",
              "      <td>1</td>\n",
              "      <td>0</td>\n",
              "    </tr>\n",
              "  </tbody>\n",
              "</table>\n",
              "<p>5 rows × 26 columns</p>\n",
              "</div>"
            ],
            "text/plain": [
              "       destination  passanger weather  temperature  time  \\\n",
              "0  No Urgent Place      Alone   Sunny           55   2PM   \n",
              "1  No Urgent Place  Friend(s)   Sunny           80  10AM   \n",
              "2  No Urgent Place  Friend(s)   Sunny           80  10AM   \n",
              "3  No Urgent Place  Friend(s)   Sunny           80   2PM   \n",
              "4  No Urgent Place  Friend(s)   Sunny           80   2PM   \n",
              "\n",
              "                  coupon expiration  gender age      maritalStatus  ...  \\\n",
              "0        Restaurant(<20)         1d  Female  21  Unmarried partner  ...   \n",
              "1           Coffee House         2h  Female  21  Unmarried partner  ...   \n",
              "2  Carry out & Take away         2h  Female  21  Unmarried partner  ...   \n",
              "3           Coffee House         2h  Female  21  Unmarried partner  ...   \n",
              "4           Coffee House         1d  Female  21  Unmarried partner  ...   \n",
              "\n",
              "   CoffeeHouse CarryAway RestaurantLessThan20 Restaurant20To50  \\\n",
              "0        never       NaN                  4~8              1~3   \n",
              "1        never       NaN                  4~8              1~3   \n",
              "2        never       NaN                  4~8              1~3   \n",
              "3        never       NaN                  4~8              1~3   \n",
              "4        never       NaN                  4~8              1~3   \n",
              "\n",
              "  toCoupon_GEQ5min toCoupon_GEQ15min toCoupon_GEQ25min direction_same  \\\n",
              "0                1                 0                 0              0   \n",
              "1                1                 0                 0              0   \n",
              "2                1                 1                 0              0   \n",
              "3                1                 1                 0              0   \n",
              "4                1                 1                 0              0   \n",
              "\n",
              "  direction_opp  Y  \n",
              "0             1  1  \n",
              "1             1  0  \n",
              "2             1  1  \n",
              "3             1  0  \n",
              "4             1  0  \n",
              "\n",
              "[5 rows x 26 columns]"
            ]
          },
          "execution_count": 5,
          "metadata": {},
          "output_type": "execute_result"
        }
      ],
      "source": [
        "data.head()"
      ]
    },
    {
      "cell_type": "markdown",
      "metadata": {
        "id": "GcDs78ZH_qRH"
      },
      "source": [
        "2. Investigate the dataset for missing or problematic data."
      ]
    },
    {
      "cell_type": "code",
      "execution_count": 13,
      "metadata": {
        "id": "6CwL6oWj_qRH"
      },
      "outputs": [
        {
          "name": "stdout",
          "output_type": "stream",
          "text": [
            "Missing data per column:\n",
            "CoffeeHouse             217\n",
            "Restaurant20To50        189\n",
            "CarryAway               151\n",
            "RestaurantLessThan20    130\n",
            "Bar                     107\n",
            "destination               0\n",
            "income                    0\n",
            "direction_opp             0\n",
            "direction_same            0\n",
            "toCoupon_GEQ25min         0\n",
            "dtype: int64\n",
            "\n",
            "Percentage of missing data:\n",
            "CoffeeHouse             1.710817\n",
            "Restaurant20To50        1.490066\n",
            "CarryAway               1.190476\n",
            "RestaurantLessThan20    1.024913\n",
            "Bar                     0.843582\n",
            "destination             0.000000\n",
            "income                  0.000000\n",
            "direction_opp           0.000000\n",
            "direction_same          0.000000\n",
            "toCoupon_GEQ25min       0.000000\n",
            "dtype: float64\n"
          ]
        }
      ],
      "source": [
        "# Top 10 missing data\n",
        "missing_data = data.isnull().sum()\n",
        "print(\"Missing data per column:\")\n",
        "print(missing_data.sort_values(ascending=False).head(10))\n",
        "\n",
        "# Top 10 Percentage of missing data\n",
        "missing_percentage = (missing_data / len(data)) * 100\n",
        "print(\"\\nPercentage of missing data:\")\n",
        "print(missing_percentage.sort_values(ascending=False).head(10))\n",
        "\n"
      ]
    },
    {
      "cell_type": "markdown",
      "metadata": {
        "id": "bSdVSpYB_qRH"
      },
      "source": [
        "3. Decide what to do about your missing data -- drop, replace, other..."
      ]
    },
    {
      "cell_type": "code",
      "execution_count": 14,
      "metadata": {
        "id": "tyvoAC5F_qRI"
      },
      "outputs": [
        {
          "name": "stdout",
          "output_type": "stream",
          "text": [
            "columns > 50% missing data to be dropped: []\n",
            "destination             0\n",
            "passanger               0\n",
            "weather                 0\n",
            "temperature             0\n",
            "time                    0\n",
            "coupon                  0\n",
            "expiration              0\n",
            "gender                  0\n",
            "age                     0\n",
            "maritalStatus           0\n",
            "has_children            0\n",
            "education               0\n",
            "occupation              0\n",
            "income                  0\n",
            "Bar                     0\n",
            "CoffeeHouse             0\n",
            "CarryAway               0\n",
            "RestaurantLessThan20    0\n",
            "Restaurant20To50        0\n",
            "toCoupon_GEQ5min        0\n",
            "toCoupon_GEQ15min       0\n",
            "toCoupon_GEQ25min       0\n",
            "direction_same          0\n",
            "direction_opp           0\n",
            "Y                       0\n",
            "dtype: int64\n"
          ]
        }
      ],
      "source": [
        "# Drop cols > 50% of missing data\n",
        "columns_to_drop = [col for col in missing_data.index if missing_percentage[col] > 50]\n",
        "print(f\"columns > 50% missing data to be dropped: {columns_to_drop}\")\n",
        "data = data.drop(columns=columns_to_drop)\n",
        "\n",
        "\n",
        "# Fill missing values with 'NA'\n",
        "data = data.fillna('NA')\n",
        "\n",
        "# check if all data is good\n",
        "\n",
        "print(data.isnull().sum())"
      ]
    },
    {
      "cell_type": "markdown",
      "metadata": {
        "id": "YE6oJbXd_qRI"
      },
      "source": [
        "4. What proportion of the total observations chose to accept the coupon?\n",
        "\n"
      ]
    },
    {
      "cell_type": "code",
      "execution_count": 15,
      "metadata": {
        "id": "86GGqBTv_qRI"
      },
      "outputs": [
        {
          "name": "stdout",
          "output_type": "stream",
          "text": [
            "The proportion of total observations that accepted the coupon: 0.57\n"
          ]
        }
      ],
      "source": [
        "# Get the mean of accepted coupons\n",
        "proportion_accepted = data['Y'].mean()\n",
        "print(f\"The proportion of total observations that accepted the coupon: {proportion_accepted:.2f}\")\n"
      ]
    },
    {
      "cell_type": "markdown",
      "metadata": {
        "id": "vflz0DoE_qRI"
      },
      "source": [
        "5. Use a bar plot to visualize the `coupon` column."
      ]
    },
    {
      "cell_type": "code",
      "execution_count": 16,
      "metadata": {
        "id": "dHFh3E45_qRI"
      },
      "outputs": [
        {
          "data": {
            "image/png": "[encoded data removed]",
            "text/plain": [
              "<Figure size 1000x600 with 1 Axes>"
            ]
          },
          "metadata": {},
          "output_type": "display_data"
        }
      ],
      "source": [
        "plt.figure(figsize=(10,6))\n",
        "sns.countplot(y='coupon', data=data, order=data['coupon'].value_counts().index)\n",
        "plt.title('Distribution of Coupons')\n",
        "plt.xlabel('Count')\n",
        "plt.ylabel('Coupon Type')\n",
        "plt.show()"
      ]
    },
    {
      "cell_type": "markdown",
      "metadata": {
        "id": "Qw4lCyx2_qRI"
      },
      "source": [
        "6. Use a histogram to visualize the temperature column."
      ]
    },
    {
      "cell_type": "code",
      "execution_count": 19,
      "metadata": {
        "id": "Yg9Anv71_qRI"
      },
      "outputs": [
        {
          "data": {
            "image/png": "[encoded data removed]",
            "text/plain": [
              "<Figure size 1000x600 with 1 Axes>"
            ]
          },
          "metadata": {},
          "output_type": "display_data"
        }
      ],
      "source": [
        "# Histogram for the 'temperature' column\n",
        "plt.figure(figsize=(10,6))\n",
        "sns.histplot(data['temperature'], bins=15, kde=True, color='red')\n",
        "plt.title('Temperature Dist')\n",
        "plt.xlabel('Temperature')\n",
        "plt.ylabel('Frequency')\n",
        "plt.show()"
      ]
    },
    {
      "cell_type": "code",
      "execution_count": null,
      "metadata": {
        "id": "zLtOaJQk_qRI"
      },
      "outputs": [],
      "source": []
    },
    {
      "cell_type": "code",
      "execution_count": null,
      "metadata": {
        "id": "7GBHZKBp_qRJ"
      },
      "outputs": [],
      "source": []
    },
    {
      "cell_type": "code",
      "execution_count": null,
      "metadata": {
        "id": "Y5nBUA-j_qRJ"
      },
      "outputs": [],
      "source": []
    },
    {
      "cell_type": "code",
      "execution_count": null,
      "metadata": {
        "id": "ShcUC-Vm_qRJ"
      },
      "outputs": [],
      "source": []
    },
    {
      "cell_type": "markdown",
      "metadata": {
        "id": "FupfgeJk_qRJ"
      },
      "source": [
        "**Investigating the Bar Coupons**\n",
        "\n",
        "Now, we will lead you through an exploration of just the bar related coupons.  \n",
        "\n",
        "1. Create a new `DataFrame` that contains just the bar coupons.\n"
      ]
    },
    {
      "cell_type": "code",
      "execution_count": 22,
      "metadata": {
        "id": "tMBlWuGq_qRJ"
      },
      "outputs": [
        {
          "name": "stdout",
          "output_type": "stream",
          "text": [
            "        destination  passanger weather  temperature  time coupon expiration  \\\n",
            "9   No Urgent Place     Kid(s)   Sunny           80  10AM    Bar         1d   \n",
            "13             Home      Alone   Sunny           55   6PM    Bar         1d   \n",
            "17             Work      Alone   Sunny           55   7AM    Bar         1d   \n",
            "24  No Urgent Place  Friend(s)   Sunny           80  10AM    Bar         1d   \n",
            "35             Home      Alone   Sunny           55   6PM    Bar         1d   \n",
            "39             Work      Alone   Sunny           55   7AM    Bar         1d   \n",
            "46  No Urgent Place  Friend(s)   Sunny           80  10AM    Bar         1d   \n",
            "57             Home      Alone   Sunny           55   6PM    Bar         1d   \n",
            "61             Work      Alone   Sunny           55   7AM    Bar         1d   \n",
            "75  No Urgent Place     Kid(s)   Sunny           80  10AM    Bar         1d   \n",
            "\n",
            "    gender age      maritalStatus  ...  CoffeeHouse CarryAway  \\\n",
            "9   Female  21  Unmarried partner  ...        never        NA   \n",
            "13  Female  21  Unmarried partner  ...        never        NA   \n",
            "17  Female  21  Unmarried partner  ...        never        NA   \n",
            "24    Male  21             Single  ...        less1       4~8   \n",
            "35    Male  21             Single  ...        less1       4~8   \n",
            "39    Male  21             Single  ...        less1       4~8   \n",
            "46    Male  46             Single  ...          4~8       1~3   \n",
            "57    Male  46             Single  ...          4~8       1~3   \n",
            "61    Male  46             Single  ...          4~8       1~3   \n",
            "75    Male  46    Married partner  ...          1~3       1~3   \n",
            "\n",
            "   RestaurantLessThan20 Restaurant20To50 toCoupon_GEQ5min toCoupon_GEQ15min  \\\n",
            "9                   4~8              1~3                1                 1   \n",
            "13                  4~8              1~3                1                 0   \n",
            "17                  4~8              1~3                1                 1   \n",
            "24                  4~8            less1                1                 0   \n",
            "35                  4~8            less1                1                 0   \n",
            "39                  4~8            less1                1                 1   \n",
            "46                  1~3            never                1                 0   \n",
            "57                  1~3            never                1                 0   \n",
            "61                  1~3            never                1                 1   \n",
            "75                  1~3            less1                1                 1   \n",
            "\n",
            "   toCoupon_GEQ25min direction_same direction_opp  Y  \n",
            "9                  0              0             1  0  \n",
            "13                 0              1             0  1  \n",
            "17                 1              0             1  0  \n",
            "24                 0              0             1  1  \n",
            "35                 0              1             0  1  \n",
            "39                 1              0             1  1  \n",
            "46                 0              0             1  0  \n",
            "57                 0              1             0  0  \n",
            "61                 1              0             1  0  \n",
            "75                 0              0             1  1  \n",
            "\n",
            "[10 rows x 25 columns]\n"
          ]
        }
      ],
      "source": [
        "bar_coupons = data[data['coupon'] == 'Bar'].head(10)\n",
        "print(bar_coupons)"
      ]
    },
    {
      "cell_type": "markdown",
      "metadata": {
        "id": "8ue6uCqf_qRJ"
      },
      "source": [
        "2. What proportion of bar coupons were accepted?\n"
      ]
    },
    {
      "cell_type": "code",
      "execution_count": 27,
      "metadata": {
        "id": "hSdte8Mi_qRK"
      },
      "outputs": [
        {
          "name": "stdout",
          "output_type": "stream",
          "text": [
            "The proportion of bar coupons that were accepted is: 0.50\n"
          ]
        }
      ],
      "source": [
        "# Calculate the proportion of accepted bar coupons\n",
        "\n",
        "bar_coupons_accepted = bar_coupons['Y'].mean()\n",
        "print(f\"The proportion of bar coupons that were accepted is: {bar_coupons_accepted:.2f}\")\n",
        "\n"
      ]
    },
    {
      "cell_type": "markdown",
      "metadata": {
        "id": "85nA_iEi_qRK"
      },
      "source": [
        "3. Compare the acceptance rate between those who went to a bar 3 or fewer times a month to those who went more.\n"
      ]
    },
    {
      "cell_type": "code",
      "execution_count": 31,
      "metadata": {
        "id": "LBOrN-XM_qRK"
      },
      "outputs": [
        {
          "name": "stdout",
          "output_type": "stream",
          "text": [
            "Acceptance rate for those who went to a bar 3 or fewer times a month: nan and Acceptance rate for those who went to a bar more than 3 times a month: 0.50\n"
          ]
        }
      ],
      "source": [
        "# fewer_than_3\n",
        "fewer_than_3 = bar_coupons[bar_coupons['Bar'] <= '3']\n",
        "more_than_3 = bar_coupons[bar_coupons['Bar'] > '3']\n",
        "\n",
        "# acceptance rates\n",
        "acceptance_fewer_than_3 = fewer_than_3['Y'].mean()\n",
        "acceptance_more_than_3 = more_than_3['Y'].mean()\n",
        "\n",
        "print(f\"Acceptance rate for those who went to a bar 3 or fewer times a month: {acceptance_fewer_than_3:.2f} and Acceptance rate for those who went to a bar more than 3 times a month: {acceptance_more_than_3:.2f}\")\n",
        "\n"
      ]
    },
    {
      "cell_type": "markdown",
      "metadata": {
        "id": "RBgcQwH4_qRK"
      },
      "source": [
        "4. Compare the acceptance rate between drivers who go to a bar more than once a month and are over the age of 25 to the all others.  Is there a difference?\n"
      ]
    },
    {
      "cell_type": "code",
      "execution_count": 33,
      "metadata": {
        "id": "bf28bbeX_qRK"
      },
      "outputs": [
        {
          "name": "stdout",
          "output_type": "stream",
          "text": [
            "Acceptance rate for drivers over 25 who go to a bar more than once a month: 0.25\n",
            "Acceptance rate for all other drivers: 0.67\n"
          ]
        }
      ],
      "source": [
        "# Age >25\n",
        "over_25_more_than_once = bar_coupons[(bar_coupons['Bar'] > '1') & (bar_coupons['age'].astype(int) > 25)]\n",
        "all_others = bar_coupons[~((bar_coupons['Bar'] > '1') & (bar_coupons['age'].astype(int) > 25))]\n",
        "\n",
        "#  acceptance rates\n",
        "acceptance_over_25_more_than_once = over_25_more_than_once['Y'].mean()\n",
        "acceptance_all_others = all_others['Y'].mean()\n",
        "\n",
        "print(f\"Acceptance rate for drivers over 25 who go to a bar more than once a month: {acceptance_over_25_more_than_once:.2f}\")\n",
        "print(f\"Acceptance rate for all other drivers: {acceptance_all_others:.2f}\")\n"
      ]
    },
    {
      "cell_type": "markdown",
      "metadata": {
        "id": "S4RKT4PJ_qRK"
      },
      "source": [
        "5. Use the same process to compare the acceptance rate between drivers who go to bars more than once a month and had passengers that were not a kid and had occupations other than farming, fishing, or forestry.\n"
      ]
    },
    {
      "cell_type": "code",
      "execution_count": 34,
      "metadata": {
        "id": "sENaI2Tg_qRK"
      },
      "outputs": [
        {
          "name": "stdout",
          "output_type": "stream",
          "text": [
            "Acceptance rate for drivers meeting the condition: 0.50\n",
            "Acceptance rate for all other drivers: 0.50\n"
          ]
        }
      ],
      "source": [
        "# no kids group\n",
        "no_kids_group = bar_coupons[(bar_coupons['Bar'] > '1') &(bar_coupons['passanger'] != 'Kid(s)') & (~bar_coupons['occupation'].isin(['Farming', 'Fishing', 'Forestry']))]\n",
        "\n",
        "# other group\n",
        "other_group = bar_coupons[~((bar_coupons['Bar'] > '1') & (bar_coupons['passanger'] != 'Kid(s)') & (~bar_coupons['occupation'].isin(['Farming', 'Fishing', 'Forestry'])))]\n",
        "\n",
        "#  acceptance rates\n",
        "acceptance_criteria_group = no_kids_group['Y'].mean()\n",
        "acceptance_other_group = other_group['Y'].mean()\n",
        "\n",
        "print(f\"Acceptance rate for drivers meeting the condition: {acceptance_criteria_group:.2f}\")\n",
        "print(f\"Acceptance rate for all other drivers: {acceptance_other_group:.2f}\")\n"
      ]
    },
    {
      "cell_type": "markdown",
      "metadata": {
        "id": "n2LIUTil_qRK"
      },
      "source": [
        "6. Compare the acceptance rates between those drivers who:\n",
        "\n",
        "- go to bars more than once a month, had passengers that were not a kid, and were not widowed *OR*\n",
        "- go to bars more than once a month and are under the age of 30 *OR*\n",
        "- go to cheap restaurants more than 4 times a month and income is less than 50K.\n",
        "\n"
      ]
    },
    {
      "cell_type": "code",
      "execution_count": 35,
      "metadata": {
        "id": "aK_wEzx7_qRK"
      },
      "outputs": [
        {
          "name": "stdout",
          "output_type": "stream",
          "text": [
            "Acceptance rate for Group a: 0.50\n",
            "Acceptance rate for Group b: 0.67\n",
            "Acceptance rate for Group c: 0.33\n"
          ]
        }
      ],
      "source": [
        "# Group a: go to bars more than once a month, had passengers not a kid, and were not widowed\n",
        "group_a = bar_coupons[(bar_coupons['Bar'] > '1') &(bar_coupons['passanger'] != 'Kid(s)') &(bar_coupons['maritalStatus'] != 'Widowed')]\n",
        "\n",
        "# Group b: go to bars more than once a month and are under the age of 30\n",
        "group_b = bar_coupons[(bar_coupons['Bar'] > '1') &(bar_coupons['age'].astype(int) < 30)]\n",
        "\n",
        "# Group c: go to cheap restaurants more than 4 times a month and income is less than 50K\n",
        "group_c = bar_coupons[(bar_coupons['RestaurantLessThan20'] > '4') & (bar_coupons['income'] < '$50K')]\n",
        "\n",
        "# Calculate acceptance rates\n",
        "acceptance_group_a = group_a['Y'].mean()\n",
        "acceptance_group_b = group_b['Y'].mean()\n",
        "acceptance_group_c = group_c['Y'].mean()\n",
        "\n",
        "# Print the results\n",
        "print(f\"Acceptance rate for Group a: {acceptance_group_a:.2f}\")\n",
        "print(f\"Acceptance rate for Group b: {acceptance_group_b:.2f}\")\n",
        "print(f\"Acceptance rate for Group c: {acceptance_group_c:.2f}\")\n"
      ]
    },
    {
      "cell_type": "markdown",
      "metadata": {
        "id": "v3fL3QkO_qRK"
      },
      "source": [
        "7.  Based on these observations, what do you hypothesize about drivers who accepted the bar coupons?"
      ]
    },
    {
      "cell_type": "code",
      "execution_count": 38,
      "metadata": {
        "id": "Y48naDFh_qRL"
      },
      "outputs": [],
      "source": [
        "# There is a pattern in the drivers who accepted the coupons\n",
        "    # -> Low Income drivers looking to save money are using the coupons \n",
        "    # -> Younger demographic of age <25 are accepting the coupon \n",
        "    # -> There are many >1 visits to the bar, that suggest returning customers who values the coupon\n",
        "    "
      ]
    },
    {
      "cell_type": "markdown",
      "metadata": {
        "id": "r4Hu1zOb_qRL"
      },
      "source": [
        "### Independent Investigation\n",
        "\n",
        "Using the bar coupon example as motivation, you are to explore one of the other coupon groups and try to determine the characteristics of passengers who accept the coupons.  "
      ]
    },
    {
      "cell_type": "code",
      "execution_count": 42,
      "metadata": {
        "id": "0c71cQhu_qRL"
      },
      "outputs": [
        {
          "data": {
            "text/html": [
              "<div>\n",
              "<style scoped>\n",
              "    .dataframe tbody tr th:only-of-type {\n",
              "        vertical-align: middle;\n",
              "    }\n",
              "\n",
              "    .dataframe tbody tr th {\n",
              "        vertical-align: top;\n",
              "    }\n",
              "\n",
              "    .dataframe thead th {\n",
              "        text-align: right;\n",
              "    }\n",
              "</style>\n",
              "<table border=\"1\" class=\"dataframe\">\n",
              "  <thead>\n",
              "    <tr style=\"text-align: right;\">\n",
              "      <th></th>\n",
              "      <th>destination</th>\n",
              "      <th>passanger</th>\n",
              "      <th>weather</th>\n",
              "      <th>temperature</th>\n",
              "      <th>time</th>\n",
              "      <th>coupon</th>\n",
              "      <th>expiration</th>\n",
              "      <th>gender</th>\n",
              "      <th>age</th>\n",
              "      <th>maritalStatus</th>\n",
              "      <th>...</th>\n",
              "      <th>CoffeeHouse</th>\n",
              "      <th>CarryAway</th>\n",
              "      <th>RestaurantLessThan20</th>\n",
              "      <th>Restaurant20To50</th>\n",
              "      <th>toCoupon_GEQ5min</th>\n",
              "      <th>toCoupon_GEQ15min</th>\n",
              "      <th>toCoupon_GEQ25min</th>\n",
              "      <th>direction_same</th>\n",
              "      <th>direction_opp</th>\n",
              "      <th>Y</th>\n",
              "    </tr>\n",
              "  </thead>\n",
              "  <tbody>\n",
              "    <tr>\n",
              "      <th>1</th>\n",
              "      <td>No Urgent Place</td>\n",
              "      <td>Friend(s)</td>\n",
              "      <td>Sunny</td>\n",
              "      <td>80</td>\n",
              "      <td>10AM</td>\n",
              "      <td>Coffee House</td>\n",
              "      <td>2h</td>\n",
              "      <td>Female</td>\n",
              "      <td>21</td>\n",
              "      <td>Unmarried partner</td>\n",
              "      <td>...</td>\n",
              "      <td>never</td>\n",
              "      <td>NA</td>\n",
              "      <td>4~8</td>\n",
              "      <td>1~3</td>\n",
              "      <td>1</td>\n",
              "      <td>0</td>\n",
              "      <td>0</td>\n",
              "      <td>0</td>\n",
              "      <td>1</td>\n",
              "      <td>0</td>\n",
              "    </tr>\n",
              "    <tr>\n",
              "      <th>3</th>\n",
              "      <td>No Urgent Place</td>\n",
              "      <td>Friend(s)</td>\n",
              "      <td>Sunny</td>\n",
              "      <td>80</td>\n",
              "      <td>2PM</td>\n",
              "      <td>Coffee House</td>\n",
              "      <td>2h</td>\n",
              "      <td>Female</td>\n",
              "      <td>21</td>\n",
              "      <td>Unmarried partner</td>\n",
              "      <td>...</td>\n",
              "      <td>never</td>\n",
              "      <td>NA</td>\n",
              "      <td>4~8</td>\n",
              "      <td>1~3</td>\n",
              "      <td>1</td>\n",
              "      <td>1</td>\n",
              "      <td>0</td>\n",
              "      <td>0</td>\n",
              "      <td>1</td>\n",
              "      <td>0</td>\n",
              "    </tr>\n",
              "    <tr>\n",
              "      <th>4</th>\n",
              "      <td>No Urgent Place</td>\n",
              "      <td>Friend(s)</td>\n",
              "      <td>Sunny</td>\n",
              "      <td>80</td>\n",
              "      <td>2PM</td>\n",
              "      <td>Coffee House</td>\n",
              "      <td>1d</td>\n",
              "      <td>Female</td>\n",
              "      <td>21</td>\n",
              "      <td>Unmarried partner</td>\n",
              "      <td>...</td>\n",
              "      <td>never</td>\n",
              "      <td>NA</td>\n",
              "      <td>4~8</td>\n",
              "      <td>1~3</td>\n",
              "      <td>1</td>\n",
              "      <td>1</td>\n",
              "      <td>0</td>\n",
              "      <td>0</td>\n",
              "      <td>1</td>\n",
              "      <td>0</td>\n",
              "    </tr>\n",
              "    <tr>\n",
              "      <th>12</th>\n",
              "      <td>No Urgent Place</td>\n",
              "      <td>Kid(s)</td>\n",
              "      <td>Sunny</td>\n",
              "      <td>55</td>\n",
              "      <td>6PM</td>\n",
              "      <td>Coffee House</td>\n",
              "      <td>2h</td>\n",
              "      <td>Female</td>\n",
              "      <td>21</td>\n",
              "      <td>Unmarried partner</td>\n",
              "      <td>...</td>\n",
              "      <td>never</td>\n",
              "      <td>NA</td>\n",
              "      <td>4~8</td>\n",
              "      <td>1~3</td>\n",
              "      <td>1</td>\n",
              "      <td>1</td>\n",
              "      <td>0</td>\n",
              "      <td>0</td>\n",
              "      <td>1</td>\n",
              "      <td>1</td>\n",
              "    </tr>\n",
              "    <tr>\n",
              "      <th>15</th>\n",
              "      <td>Home</td>\n",
              "      <td>Alone</td>\n",
              "      <td>Sunny</td>\n",
              "      <td>80</td>\n",
              "      <td>6PM</td>\n",
              "      <td>Coffee House</td>\n",
              "      <td>2h</td>\n",
              "      <td>Female</td>\n",
              "      <td>21</td>\n",
              "      <td>Unmarried partner</td>\n",
              "      <td>...</td>\n",
              "      <td>never</td>\n",
              "      <td>NA</td>\n",
              "      <td>4~8</td>\n",
              "      <td>1~3</td>\n",
              "      <td>1</td>\n",
              "      <td>0</td>\n",
              "      <td>0</td>\n",
              "      <td>0</td>\n",
              "      <td>1</td>\n",
              "      <td>0</td>\n",
              "    </tr>\n",
              "    <tr>\n",
              "      <th>16</th>\n",
              "      <td>Work</td>\n",
              "      <td>Alone</td>\n",
              "      <td>Sunny</td>\n",
              "      <td>55</td>\n",
              "      <td>7AM</td>\n",
              "      <td>Coffee House</td>\n",
              "      <td>2h</td>\n",
              "      <td>Female</td>\n",
              "      <td>21</td>\n",
              "      <td>Unmarried partner</td>\n",
              "      <td>...</td>\n",
              "      <td>never</td>\n",
              "      <td>NA</td>\n",
              "      <td>4~8</td>\n",
              "      <td>1~3</td>\n",
              "      <td>1</td>\n",
              "      <td>1</td>\n",
              "      <td>1</td>\n",
              "      <td>0</td>\n",
              "      <td>1</td>\n",
              "      <td>1</td>\n",
              "    </tr>\n",
              "    <tr>\n",
              "      <th>21</th>\n",
              "      <td>Work</td>\n",
              "      <td>Alone</td>\n",
              "      <td>Sunny</td>\n",
              "      <td>55</td>\n",
              "      <td>7AM</td>\n",
              "      <td>Coffee House</td>\n",
              "      <td>2h</td>\n",
              "      <td>Female</td>\n",
              "      <td>21</td>\n",
              "      <td>Unmarried partner</td>\n",
              "      <td>...</td>\n",
              "      <td>never</td>\n",
              "      <td>NA</td>\n",
              "      <td>4~8</td>\n",
              "      <td>1~3</td>\n",
              "      <td>1</td>\n",
              "      <td>1</td>\n",
              "      <td>0</td>\n",
              "      <td>0</td>\n",
              "      <td>1</td>\n",
              "      <td>1</td>\n",
              "    </tr>\n",
              "    <tr>\n",
              "      <th>23</th>\n",
              "      <td>No Urgent Place</td>\n",
              "      <td>Friend(s)</td>\n",
              "      <td>Sunny</td>\n",
              "      <td>80</td>\n",
              "      <td>10AM</td>\n",
              "      <td>Coffee House</td>\n",
              "      <td>2h</td>\n",
              "      <td>Male</td>\n",
              "      <td>21</td>\n",
              "      <td>Single</td>\n",
              "      <td>...</td>\n",
              "      <td>less1</td>\n",
              "      <td>4~8</td>\n",
              "      <td>4~8</td>\n",
              "      <td>less1</td>\n",
              "      <td>1</td>\n",
              "      <td>0</td>\n",
              "      <td>0</td>\n",
              "      <td>0</td>\n",
              "      <td>1</td>\n",
              "      <td>0</td>\n",
              "    </tr>\n",
              "    <tr>\n",
              "      <th>26</th>\n",
              "      <td>No Urgent Place</td>\n",
              "      <td>Friend(s)</td>\n",
              "      <td>Sunny</td>\n",
              "      <td>80</td>\n",
              "      <td>2PM</td>\n",
              "      <td>Coffee House</td>\n",
              "      <td>1d</td>\n",
              "      <td>Male</td>\n",
              "      <td>21</td>\n",
              "      <td>Single</td>\n",
              "      <td>...</td>\n",
              "      <td>less1</td>\n",
              "      <td>4~8</td>\n",
              "      <td>4~8</td>\n",
              "      <td>less1</td>\n",
              "      <td>1</td>\n",
              "      <td>0</td>\n",
              "      <td>0</td>\n",
              "      <td>0</td>\n",
              "      <td>1</td>\n",
              "      <td>0</td>\n",
              "    </tr>\n",
              "    <tr>\n",
              "      <th>27</th>\n",
              "      <td>No Urgent Place</td>\n",
              "      <td>Friend(s)</td>\n",
              "      <td>Sunny</td>\n",
              "      <td>80</td>\n",
              "      <td>2PM</td>\n",
              "      <td>Coffee House</td>\n",
              "      <td>2h</td>\n",
              "      <td>Male</td>\n",
              "      <td>21</td>\n",
              "      <td>Single</td>\n",
              "      <td>...</td>\n",
              "      <td>less1</td>\n",
              "      <td>4~8</td>\n",
              "      <td>4~8</td>\n",
              "      <td>less1</td>\n",
              "      <td>1</td>\n",
              "      <td>1</td>\n",
              "      <td>0</td>\n",
              "      <td>0</td>\n",
              "      <td>1</td>\n",
              "      <td>0</td>\n",
              "    </tr>\n",
              "  </tbody>\n",
              "</table>\n",
              "<p>10 rows × 25 columns</p>\n",
              "</div>"
            ],
            "text/plain": [
              "        destination  passanger weather  temperature  time        coupon  \\\n",
              "1   No Urgent Place  Friend(s)   Sunny           80  10AM  Coffee House   \n",
              "3   No Urgent Place  Friend(s)   Sunny           80   2PM  Coffee House   \n",
              "4   No Urgent Place  Friend(s)   Sunny           80   2PM  Coffee House   \n",
              "12  No Urgent Place     Kid(s)   Sunny           55   6PM  Coffee House   \n",
              "15             Home      Alone   Sunny           80   6PM  Coffee House   \n",
              "16             Work      Alone   Sunny           55   7AM  Coffee House   \n",
              "21             Work      Alone   Sunny           55   7AM  Coffee House   \n",
              "23  No Urgent Place  Friend(s)   Sunny           80  10AM  Coffee House   \n",
              "26  No Urgent Place  Friend(s)   Sunny           80   2PM  Coffee House   \n",
              "27  No Urgent Place  Friend(s)   Sunny           80   2PM  Coffee House   \n",
              "\n",
              "   expiration  gender age      maritalStatus  ...  CoffeeHouse CarryAway  \\\n",
              "1          2h  Female  21  Unmarried partner  ...        never        NA   \n",
              "3          2h  Female  21  Unmarried partner  ...        never        NA   \n",
              "4          1d  Female  21  Unmarried partner  ...        never        NA   \n",
              "12         2h  Female  21  Unmarried partner  ...        never        NA   \n",
              "15         2h  Female  21  Unmarried partner  ...        never        NA   \n",
              "16         2h  Female  21  Unmarried partner  ...        never        NA   \n",
              "21         2h  Female  21  Unmarried partner  ...        never        NA   \n",
              "23         2h    Male  21             Single  ...        less1       4~8   \n",
              "26         1d    Male  21             Single  ...        less1       4~8   \n",
              "27         2h    Male  21             Single  ...        less1       4~8   \n",
              "\n",
              "   RestaurantLessThan20 Restaurant20To50 toCoupon_GEQ5min toCoupon_GEQ15min  \\\n",
              "1                   4~8              1~3                1                 0   \n",
              "3                   4~8              1~3                1                 1   \n",
              "4                   4~8              1~3                1                 1   \n",
              "12                  4~8              1~3                1                 1   \n",
              "15                  4~8              1~3                1                 0   \n",
              "16                  4~8              1~3                1                 1   \n",
              "21                  4~8              1~3                1                 1   \n",
              "23                  4~8            less1                1                 0   \n",
              "26                  4~8            less1                1                 0   \n",
              "27                  4~8            less1                1                 1   \n",
              "\n",
              "   toCoupon_GEQ25min direction_same direction_opp  Y  \n",
              "1                  0              0             1  0  \n",
              "3                  0              0             1  0  \n",
              "4                  0              0             1  0  \n",
              "12                 0              0             1  1  \n",
              "15                 0              0             1  0  \n",
              "16                 1              0             1  1  \n",
              "21                 0              0             1  1  \n",
              "23                 0              0             1  0  \n",
              "26                 0              0             1  0  \n",
              "27                 0              0             1  0  \n",
              "\n",
              "[10 rows x 25 columns]"
            ]
          },
          "execution_count": 42,
          "metadata": {},
          "output_type": "execute_result"
        }
      ],
      "source": [
        "# Coffee House coupon group\n",
        "coffee_house_coupons = data[data['coupon'] == 'Coffee House']\n",
        "coffee_house_coupons.head(10)\n",
        "\n"
      ]
    },
    {
      "cell_type": "code",
      "execution_count": 43,
      "metadata": {
        "id": "QEsBkvIN_qRL"
      },
      "outputs": [
        {
          "name": "stdout",
          "output_type": "stream",
          "text": [
            "Overall acceptance rate for Coffee House coupons: 0.50\n"
          ]
        }
      ],
      "source": [
        "# acceptance rate\n",
        "coffee_acceptance_rate = coffee_house_coupons['Y'].mean()\n",
        "print(f\"Overall acceptance rate for Coffee House coupons: {coffee_acceptance_rate:.2f}\")\n"
      ]
    },
    {
      "cell_type": "code",
      "execution_count": 44,
      "metadata": {
        "id": "fTC2WGE3_qRL"
      },
      "outputs": [
        {
          "name": "stdout",
          "output_type": "stream",
          "text": [
            "Acceptance rate for Coffee House coupons by passenger type:\n",
            "passanger\n",
            "Friend(s)    0.596906\n",
            "Partner      0.570492\n",
            "Kid(s)       0.483092\n",
            "Alone        0.437943\n",
            "Name: Y, dtype: float64\n"
          ]
        }
      ],
      "source": [
        "# group by passenger type\n",
        "coffee_passenger_acceptance = coffee_house_coupons.groupby('passanger')['Y'].mean().sort_values(ascending=False)\n",
        "print(\"Acceptance rate for Coffee House coupons by passenger type:\")\n",
        "print(coffee_passenger_acceptance)\n"
      ]
    },
    {
      "cell_type": "code",
      "execution_count": 45,
      "metadata": {
        "id": "RrqUWn7d_qRL"
      },
      "outputs": [
        {
          "data": {
            "image/png": "[encoded data removed]",
            "text/plain": [
              "<Figure size 1000x600 with 1 Axes>"
            ]
          },
          "metadata": {},
          "output_type": "display_data"
        }
      ],
      "source": [
        "#Visualize\n",
        "plt.figure(figsize=(10,6))\n",
        "sns.barplot(x=coffee_passenger_acceptance.index, y=coffee_passenger_acceptance.values)\n",
        "plt.title('Acceptance Rate for Coffee House Coupons by Passenger Type')\n",
        "plt.xlabel('Passenger Type')\n",
        "plt.ylabel('Acceptance Rate')\n",
        "plt.show()\n"
      ]
    },
    {
      "cell_type": "code",
      "execution_count": 47,
      "metadata": {
        "id": "_oykf8YP_qRL"
      },
      "outputs": [
        {
          "name": "stdout",
          "output_type": "stream",
          "text": [
            "Overall acceptance rate: 56.84%\n"
          ]
        }
      ],
      "source": [
        "##Overall Acceptance Rates\n",
        "overall_acceptance_rate = data['Y'].mean() * 100\n",
        "\n",
        "# Print the result\n",
        "print(f\"Overall acceptance rate: {overall_acceptance_rate:.2f}%\")\n"
      ]
    },
    {
      "cell_type": "code",
      "execution_count": 48,
      "metadata": {},
      "outputs": [],
      "source": [
        "# Accepted vs. Rejected Coupons"
      ]
    },
    {
      "cell_type": "code",
      "execution_count": 51,
      "metadata": {},
      "outputs": [
        {
          "name": "stdout",
          "output_type": "stream",
          "text": [
            "Acceptance rate by coupon type:\n",
            "coupon\n",
            "Bar                      41.001487\n",
            "Carry out & Take away    73.547848\n",
            "Coffee House             49.924925\n",
            "Restaurant(20-50)        44.101877\n",
            "Restaurant(<20)          70.710696\n",
            "Name: Y, dtype: float64\n",
            "\n",
            "\n",
            "Acceptance rate by age:\n",
            "age\n",
            "21         59.819073\n",
            "26         59.593591\n",
            "31         54.634625\n",
            "36         53.525398\n",
            "41         57.273559\n",
            "46         57.580175\n",
            "50plus     50.894855\n",
            "below21    63.436929\n",
            "Name: Y, dtype: float64\n",
            "\n",
            "\n",
            "Acceptance rate by income:\n",
            "income\n",
            "$100000 or More     57.834101\n",
            "$12500 - $24999     57.454943\n",
            "$25000 - $37499     59.314456\n",
            "$37500 - $49999     56.398892\n",
            "$50000 - $62499     59.553948\n",
            "$62500 - $74999     52.718676\n",
            "$75000 - $87499     48.308051\n",
            "$87500 - $99999     53.184358\n",
            "Less than $12500    59.309021\n",
            "Name: Y, dtype: float64\n",
            "\n",
            "\n",
            "Acceptance rate by passenger type:\n",
            "passanger\n",
            "Alone        52.580424\n",
            "Friend(s)    67.343845\n",
            "Kid(s)       50.497018\n",
            "Partner      59.534884\n",
            "Name: Y, dtype: float64\n",
            "\n",
            "\n"
          ]
        }
      ],
      "source": [
        "# Acceptance rate by coupon type\n",
        "acceptance_by_coupon = data.groupby('coupon')['Y'].mean() * 100\n",
        "print(\"Acceptance rate by coupon type:\")\n",
        "print(acceptance_by_coupon)\n",
        "print(\"\\n\")\n",
        "\n",
        "# Acceptance rate by age\n",
        "acceptance_by_age = data.groupby('age')['Y'].mean() * 100\n",
        "print(\"Acceptance rate by age:\")\n",
        "print(acceptance_by_age)\n",
        "print(\"\\n\")\n",
        "\n",
        "# Acceptance rate by income\n",
        "acceptance_by_income = data.groupby('income')['Y'].mean() * 100\n",
        "print(\"Acceptance rate by income:\")\n",
        "print(acceptance_by_income)\n",
        "print(\"\\n\")\n",
        "\n",
        "# Acceptance rate by passenger type\n",
        "acceptance_by_passenger = data.groupby('passanger')['Y'].mean() * 100\n",
        "print(\"Acceptance rate by passenger type:\")\n",
        "print(acceptance_by_passenger)\n",
        "print(\"\\n\")\n",
        "\n",
        "\n"
      ]
    },
    {
      "cell_type": "code",
      "execution_count": null,
      "metadata": {},
      "outputs": [],
      "source": []
    }
  ],
  "metadata": {
    "colab": {
      "provenance": []
    },
    "kernelspec": {
      "display_name": "Python 3 (ipykernel)",
      "language": "python",
      "name": "python3"
    },
    "language_info": {
      "codemirror_mode": {
        "name": "ipython",
        "version": 3
      },
      "file_extension": ".py",
      "mimetype": "text/x-python",
      "name": "python",
      "nbconvert_exporter": "python",
      "pygments_lexer": "ipython3",
      "version": "3.12.7"
    }
  },
  "nbformat": 4,
  "nbformat_minor": 0
}
